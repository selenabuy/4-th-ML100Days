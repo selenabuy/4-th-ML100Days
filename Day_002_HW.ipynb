{
  "nbformat": 4,
  "nbformat_minor": 0,
  "metadata": {
    "colab": {
      "name": "Day_002_HW.ipynb",
      "provenance": [],
      "authorship_tag": "ABX9TyN3mefeHeknRFJVS5oo/FZ3",
      "include_colab_link": true
    },
    "kernelspec": {
      "name": "python3",
      "display_name": "Python 3"
    }
  },
  "cells": [
    {
      "cell_type": "markdown",
      "metadata": {
        "id": "view-in-github",
        "colab_type": "text"
      },
      "source": [
        "<a href=\"https://colab.research.google.com/github/selenabuy/4-th-ML100Days/blob/master/Day_002_HW.ipynb\" target=\"_parent\"><img src=\"https://colab.research.google.com/assets/colab-badge.svg\" alt=\"Open In Colab\"/></a>"
      ]
    },
    {
      "cell_type": "code",
      "metadata": {
        "id": "Ho5EnNU-7tqY",
        "colab_type": "code",
        "colab": {}
      },
      "source": [
        ""
      ],
      "execution_count": 0,
      "outputs": []
    },
    {
      "cell_type": "markdown",
      "metadata": {
        "id": "-GUfYs7Z7wve",
        "colab_type": "text"
      },
      "source": [
        "作業問題：思考題_請找出一個你認為機器學習可以發光發熱的領域並闡述原因?\n"
      ]
    }
  ]
}