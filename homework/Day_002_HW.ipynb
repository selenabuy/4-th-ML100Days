{
  "nbformat": 4,
  "nbformat_minor": 0,
  "metadata": {
    "colab": {
      "name": "Day_002_HW.ipynb",
      "provenance": [],
      "collapsed_sections": [],
      "authorship_tag": "ABX9TyPCBUt16WM4S6f/6AtHqjtl",
      "include_colab_link": true
    },
    "kernelspec": {
      "name": "python3",
      "display_name": "Python 3"
    }
  },
  "cells": [
    {
      "cell_type": "markdown",
      "metadata": {
        "id": "view-in-github",
        "colab_type": "text"
      },
      "source": [
        "<a href=\"https://colab.research.google.com/github/selenabuy/4-th-ML100Days/blob/master/homework/Day_002_HW.ipynb\" target=\"_parent\"><img src=\"https://colab.research.google.com/assets/colab-badge.svg\" alt=\"Open In Colab\"/></a>"
      ]
    },
    {
      "cell_type": "code",
      "metadata": {
        "id": "Ho5EnNU-7tqY",
        "colab_type": "code",
        "colab": {}
      },
      "source": [
        ""
      ],
      "execution_count": 0,
      "outputs": []
    },
    {
      "cell_type": "markdown",
      "metadata": {
        "id": "-GUfYs7Z7wve",
        "colab_type": "text"
      },
      "source": [
        "作業問題：思考題_請找出一個你認為機器學習可以發光發熱的領域並闡述原因?<BR>\n",
        "可應用於邊境進出檢驗作業,目前人力作業還是佔邊境檢驗很大的比例<BR>\n",
        "但幾乎都是重複性極高,且有危害作業人員安全的可能例如:疫病,有傷害性之違禁物或人..<BR>\n",
        "將機器學習加入邊境檢驗工作,找出不符合邊境進出規範的目標,<br>\n",
        "相信除了能降低人工作業的失誤,保障作業人員工作安全,且能加快檢驗效率"
      ]
    }
  ]
}