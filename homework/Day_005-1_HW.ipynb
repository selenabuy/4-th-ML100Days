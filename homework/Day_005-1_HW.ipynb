{
 "cells": [
  {
   "cell_type": "code",
   "execution_count": 6,
   "metadata": {},
   "outputs": [],
   "source": [
    "import requests\n",
    "import json\n",
    "import pandas as pd\n",
    "import numpy as np\n",
    "import math"
   ]
  },
  {
   "cell_type": "code",
   "execution_count": 17,
   "metadata": {},
   "outputs": [
    {
     "name": "stderr",
     "output_type": "stream",
     "text": [
      "C:\\ProgramData\\Anaconda3\\lib\\site-packages\\urllib3\\connectionpool.py:847: InsecureRequestWarning: Unverified HTTPS request is being made. Adding certificate verification is strongly advised. See: https://urllib3.readthedocs.io/en/latest/advanced-usage.html#ssl-warnings\n",
      "  InsecureRequestWarning)\n"
     ]
    },
    {
     "name": "stdout",
     "output_type": "stream",
     "text": [
      "200\n"
     ]
    }
   ],
   "source": [
    "r = requests.get(\"http://api.opencube.tw/countrys?$format=json\", verify=False)\n",
    "print(r.status_code)\n",
    "response = requests.get('https://raw.githubusercontent.com/vashineyu/slides_and_others/master/tutorial/examples/imagenet_urls_examples.txt')\n",
    "data = response.text"
   ]
  },
  {
   "cell_type": "code",
   "execution_count": 8,
   "metadata": {},
   "outputs": [
    {
     "data": {
      "text/html": [
       "<div>\n",
       "<style scoped>\n",
       "    .dataframe tbody tr th:only-of-type {\n",
       "        vertical-align: middle;\n",
       "    }\n",
       "\n",
       "    .dataframe tbody tr th {\n",
       "        vertical-align: top;\n",
       "    }\n",
       "\n",
       "    .dataframe thead th {\n",
       "        text-align: right;\n",
       "    }\n",
       "</style>\n",
       "<table border=\"1\" class=\"dataframe\">\n",
       "  <thead>\n",
       "    <tr style=\"text-align: right;\">\n",
       "      <th></th>\n",
       "      <th>國家</th>\n",
       "      <th>人口數</th>\n",
       "    </tr>\n",
       "  </thead>\n",
       "  <tbody>\n",
       "    <tr>\n",
       "      <td>106</td>\n",
       "      <td>澤西島</td>\n",
       "      <td>245452.0</td>\n",
       "    </tr>\n",
       "  </tbody>\n",
       "</table>\n",
       "</div>"
      ],
      "text/plain": [
       "      國家       人口數\n",
       "106  澤西島  245452.0"
      ]
     },
     "execution_count": 8,
     "metadata": {},
     "output_type": "execute_result"
    }
   ],
   "source": [
    "#隨機產生dataframe,取最大值\n",
    "df=pd.read_json(r.text)\n",
    "#print(df)\n",
    "\n",
    "namelist = []\n",
    "\n",
    "def setname_twval(ej):\n",
    "    dj =  json.loads(ej)\n",
    "    return dj.get('name_tw')\n",
    "\n",
    "for index,row in df.iterrows():\n",
    "    namelist.append(setname_twval(json.dumps(row['data'])))\n",
    "#namelist \n",
    "\n",
    "dfc=pd.DataFrame({'國家':namelist,\n",
    "                  '人口數':np.round(abs(np.random.randn(len(namelist))*100000))})\n",
    "#dfc\n",
    "\n",
    "dfc.nlargest(1,'人口數')"
   ]
  },
  {
   "cell_type": "code",
   "execution_count": null,
   "metadata": {},
   "outputs": [],
   "source": [
    "adata = data.split('\\n')\n",
    "\n",
    "ary=[]\n",
    "\n",
    "for idata in adata[0:100]:\n",
    "    ary.append(idata.split('\\t'))\n",
    "    #v=idata.split('\\t')\n",
    "    print(ary)\n",
    "    #col1.append(v[0])\n",
    "    #col2.append(v[1])\n",
    "#print(col1)\n",
    "#print(col2)\n",
    "#df_txt = pd.DataFrame(data[0:100])\n",
    "\n",
    "\n",
    "#for index,row in df_txt.iterrows():\n",
    "#    namelist.append(setname_twval(json.dumps(row['data'])))"
   ]
  },
  {
   "cell_type": "code",
   "execution_count": null,
   "metadata": {},
   "outputs": [],
   "source": []
  }
 ],
 "metadata": {
  "kernelspec": {
   "display_name": "Python 3",
   "language": "python",
   "name": "python3"
  },
  "language_info": {
   "codemirror_mode": {
    "name": "ipython",
    "version": 3
   },
   "file_extension": ".py",
   "mimetype": "text/x-python",
   "name": "python",
   "nbconvert_exporter": "python",
   "pygments_lexer": "ipython3",
   "version": "3.7.4"
  }
 },
 "nbformat": 4,
 "nbformat_minor": 2
}
