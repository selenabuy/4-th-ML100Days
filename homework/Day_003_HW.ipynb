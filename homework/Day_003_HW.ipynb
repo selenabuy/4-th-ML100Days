{
  "nbformat": 4,
  "nbformat_minor": 0,
  "metadata": {
    "colab": {
      "name": "Day_003_HW.ipynb",
      "provenance": [],
      "authorship_tag": "ABX9TyN0pGr/qs1/LojvtwP8lb7D",
      "include_colab_link": true
    },
    "kernelspec": {
      "name": "python3",
      "display_name": "Python 3"
    }
  },
  "cells": [
    {
      "cell_type": "markdown",
      "metadata": {
        "id": "view-in-github",
        "colab_type": "text"
      },
      "source": [
        "<a href=\"https://colab.research.google.com/github/selenabuy/4-th-ML100Days/blob/master/homework/Day_003_HW.ipynb\" target=\"_parent\"><img src=\"https://colab.research.google.com/assets/colab-badge.svg\" alt=\"Open In Colab\"/></a>"
      ]
    },
    {
      "cell_type": "code",
      "metadata": {
        "id": "uqC7D_jSiqwf",
        "colab_type": "code",
        "colab": {}
      },
      "source": [
        "請至以下機器學習巨頭的 blog 參觀，試著閱讀一篇文章並分析其 \n",
        "\n",
        "作業 1：目標\n",
        "\n",
        "作業 2：方法\n",
        "\n",
        "作業 3：資料來源 "
      ],
      "execution_count": 0,
      "outputs": []
    }
  ]
}