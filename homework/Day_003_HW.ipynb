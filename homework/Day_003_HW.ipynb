{
  "nbformat": 4,
  "nbformat_minor": 0,
  "metadata": {
    "colab": {
      "name": "Day_003_HW.ipynb",
      "provenance": [],
      "collapsed_sections": [],
      "authorship_tag": "ABX9TyN3d+jMtqsI0hcVyFIS7uYO",
      "include_colab_link": true
    },
    "kernelspec": {
      "name": "python3",
      "display_name": "Python 3"
    }
  },
  "cells": [
    {
      "cell_type": "markdown",
      "metadata": {
        "id": "view-in-github",
        "colab_type": "text"
      },
      "source": [
        "<a href=\"https://colab.research.google.com/github/selenabuy/4-th-ML100Days/blob/master/homework/Day_003_HW.ipynb\" target=\"_parent\"><img src=\"https://colab.research.google.com/assets/colab-badge.svg\" alt=\"Open In Colab\"/></a>"
      ]
    },
    {
      "cell_type": "code",
      "metadata": {
        "id": "uqC7D_jSiqwf",
        "colab_type": "code",
        "colab": {}
      },
      "source": [
        "請至以下機器學習巨頭的 blog 參觀，試著閱讀一篇文章並分析其\n",
        " \n",
        "CVPR 2019 | 腾讯AI Lab联合清华大学提出基于骨骼姿态估计的人体实例分割\n",
        "作業 1：目標\n",
        "1.提出了一个全新的基于人体骨骼姿态的实例分割框架。这个框架可以比基于包围框的框架取得更好的效果，特别是对于那些严重遮挡的情况。\n",
        "2.提出了一个基于人体姿态关节点的对齐算法，叫做 Affine-Align。这个算法可以将图像按照图中的人体关节点进行缩放和矫正对齐。\n",
        "3.显示地设计了一种人体骨骼特征图，并用其指引分割模块进行图像分割，取得了更高的分割准确率。\n",
        "4.提出了一个新的数据集基准 OCHuman。这个数据集专注于严重遮挡问题，并包含丰富完善的标注。\n",
        "作業 2：方法\n",
        "1.首先用 K-means 优化下式对训练集中的所有人体姿态进行聚类，并取每个类的聚类中心作为姿态模版构成姿态模版库。\n",
        "2.对于图像中的每个人体实例的姿态输入，通过求解下式优化问题估计姿态模版与输入姿态之间的仿射变换矩阵，并选择一个对齐误差最小（score 最大）的仿射矩阵 H 作为这个输入姿态的对齐矩阵。\n",
        "3.用这个矩阵 H 结合仿射变换来对齐特征区域。\n",
        "作業 3：資料來源 \n",
        "1.OCHuman 数据集\n",
        "2.COCOPersons 数据集"
      ],
      "execution_count": 0,
      "outputs": []
    }
  ]
}